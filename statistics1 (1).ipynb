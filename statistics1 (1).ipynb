{
 "cells": [
  {
   "cell_type": "code",
   "execution_count": null,
   "id": "d8749dc6-a0b4-4e30-9c03-e4c3af114c56",
   "metadata": {},
   "outputs": [],
   "source": [
    "Q1. What is Statistics?\n",
    "Q2. Define the different types of statistics and give an example of when each type might be used.\n",
    "Q3. What are the different types of data and how do they differ from each other? Provide an example of\n",
    "each type of data.\n",
    "Q5. Explain the concept of levels of measurement and give an example of a variable for each level.\n",
    "Q6. Why is it important to understand the level of measurement when analyzing data? Provide an\n",
    "example to illustrate your answer.\n",
    "Q7. How nominal data type is different from ordinal data type.\n",
    "Q8. Which type of plot can be used to display data in terms of range?\n",
    "Q9. Describe the difference between descriptive and inferential statistics. Give an example of each\n",
    "type of statistics and explain how they are used.\n",
    "Q10. What are some common measures of central tendency and variability used in statistics? Explain\n",
    "how each measure can be used to describe a dataset."
   ]
  },
  {
   "cell_type": "code",
   "execution_count": 5,
   "id": "ce0d6654-7061-4a84-b71a-89fc578a0fde",
   "metadata": {},
   "outputs": [],
   "source": [
    "#ans1:Statistics is a branch of applied mathematics that involves the collection, description, analysis, and inference of conclusions from quantitative data."
   ]
  },
  {
   "cell_type": "code",
   "execution_count": 3,
   "id": "193ccb43-5fe7-46f8-a42f-2ba2f41df1b4",
   "metadata": {},
   "outputs": [
    {
     "data": {
      "text/plain": [
       "'Statistics is mainly divided into the following two categories. \\n\\n1.Descriptive Statistics\\n\\n2.Inferential Statistics\\n\\n\\nDescriptive Statistics\\nIn the descriptive Statistics, the Data is described in a summarized way. The summarization is done from the sample of the population using different parameters like Mean or standard deviation. Descriptive Statistics are a way of using charts, graphs, and summary measures to organize, represent, and explain a set of Data. \\n\\nData is typically arranged and displayed in tables or graphs summarizing details such as histograms, pie charts, bars or scatter plots.\\n\\nDescriptive Statistics are just descriptive and thus do not require normalization beyond the Data collected.\\n\\n\\nInferential Statistics\\nIn the Inferential Statistics, we try to interpret the Meaning of descriptive Statistics. After the Data has been collected, analyzed, and summarised we use Inferential Statistics to describe the Meaning of the collected Data. \\n\\nInferential Statistics use the probability principle to assess whether trends contained in the research sample can be generalized to the larger population from which the sample originally comes.\\n\\nInferential Statistics are intended to test hypotheses and investigate relationships between variables and can be used to make population predictions.\\n\\nInferential Statistics are used to draw conclusions and inferences, i.e., to make valid generalizations from samples.'"
      ]
     },
     "execution_count": 3,
     "metadata": {},
     "output_type": "execute_result"
    }
   ],
   "source": [
    "'''Q3.Statistics is mainly divided into the following two categories. \n",
    "\n",
    "1.Descriptive Statistics\n",
    "\n",
    "2.Inferential Statistics\n",
    "\n",
    "\n",
    "Descriptive Statistics\n",
    "In the descriptive Statistics, the Data is described in a summarized way. The summarization is done from the sample of the population using different parameters like Mean or standard deviation. Descriptive Statistics are a way of using charts, graphs, and summary measures to organize, represent, and explain a set of Data. \n",
    "\n",
    "Data is typically arranged and displayed in tables or graphs summarizing details such as histograms, pie charts, bars or scatter plots.\n",
    "\n",
    "Descriptive Statistics are just descriptive and thus do not require normalization beyond the Data collected.\n",
    "\n",
    "\n",
    "Inferential Statistics\n",
    "In the Inferential Statistics, we try to interpret the Meaning of descriptive Statistics. After the Data has been collected, analyzed, and summarised we use Inferential Statistics to describe the Meaning of the collected Data. \n",
    "\n",
    "Inferential Statistics use the probability principle to assess whether trends contained in the research sample can be generalized to the larger population from which the sample originally comes.\n",
    "\n",
    "Inferential Statistics are intended to test hypotheses and investigate relationships between variables and can be used to make population predictions.\n",
    "\n",
    "Inferential Statistics are used to draw conclusions and inferences, i.e., to make valid generalizations from samples.'''"
   ]
  },
  {
   "cell_type": "code",
   "execution_count": 4,
   "id": "ce1acfd6-d601-491e-b231-ba5fdaaa2396",
   "metadata": {},
   "outputs": [
    {
     "data": {
      "text/plain": [
       "' ans4..The data is classified into majorly four categories:\\n\\nNominal data\\nOrdinal data\\nDiscrete data\\nContinuous data\\nQualitative data, also known as the categorical data, describes the data that fits into the categories.\\nQualitative data are not numerical. The categorical information involves categorical variables that describe the features such as a person’s gender, home town etc.\\nCategorical measures are defined in terms of natural language specifications, but not in terms of numbers.\\nNominal Data\\nNominal data is one of the types of qualitative information which helps to label the variables without providing the numerical value. \\nNominal data is also called the nominal scale. It cannot be ordered and measured. But sometimes, the data can be qualitative and quantitative. Examples of nominal data are letters, symbols, words, gender etc.\\nOrdinal Data\\nOrdinal data/variable is a type of data that follows a natural order. The significant feature of the nominal data is that the difference between the data values is not determined. \\nThis variable is mostly found in surveys, finance, economics, questionnaires, and so on.\\nQuantitative or Numerical Data\\nQuantitative data is also known as numerical data which represents the numerical value (i.e., how much, how often, how many). Numerical data gives information about the quantities of a specific thing. Some examples of numerical data are height, length, size, weight, and so on. The quantitative data can be classified into two different types based on the data sets. The two different classifications of numerical data are discrete data and continuous data.\\n\\nDiscrete Data\\nDiscrete data can take only discrete values. Discrete information contains only a finite number of possible values. Those values cannot be subdivided meaningfully. Here, things can be counted in whole numbers.\\n\\nExample: Number of students in the class\\n\\nContinuous Data\\nContinuous data is data that can be calculated. It has an infinite number of probable values that can be selected within a given specific range.\\n\\nExample: Temperature range'"
      ]
     },
     "execution_count": 4,
     "metadata": {},
     "output_type": "execute_result"
    }
   ],
   "source": [
    "''' ans4..The data is classified into majorly four categories:\n",
    "\n",
    "Nominal data\n",
    "Ordinal data\n",
    "Discrete data\n",
    "Continuous data\n",
    "Qualitative data, also known as the categorical data, describes the data that fits into the categories.\n",
    "Qualitative data are not numerical. The categorical information involves categorical variables that describe the features such as a person’s gender, home town etc.\n",
    "Categorical measures are defined in terms of natural language specifications, but not in terms of numbers.\n",
    "Nominal Data\n",
    "Nominal data is one of the types of qualitative information which helps to label the variables without providing the numerical value. \n",
    "Nominal data is also called the nominal scale. It cannot be ordered and measured. But sometimes, the data can be qualitative and quantitative. Examples of nominal data are letters, symbols, words, gender etc.\n",
    "Ordinal Data\n",
    "Ordinal data/variable is a type of data that follows a natural order. The significant feature of the nominal data is that the difference between the data values is not determined. \n",
    "This variable is mostly found in surveys, finance, economics, questionnaires, and so on.\n",
    "Quantitative or Numerical Data\n",
    "Quantitative data is also known as numerical data which represents the numerical value (i.e., how much, how often, how many). Numerical data gives information about the quantities of a specific thing. Some examples of numerical data are height, length, size, weight, and so on. The quantitative data can be classified into two different types based on the data sets. The two different classifications of numerical data are discrete data and continuous data.\n",
    "\n",
    "Discrete Data\n",
    "Discrete data can take only discrete values. Discrete information contains only a finite number of possible values. Those values cannot be subdivided meaningfully. Here, things can be counted in whole numbers.\n",
    "\n",
    "Example: Number of students in the class\n",
    "\n",
    "Continuous Data\n",
    "Continuous data is data that can be calculated. It has an infinite number of probable values that can be selected within a given specific range.\n",
    "\n",
    "Example: Temperature range'''\n"
   ]
  },
  {
   "cell_type": "code",
   "execution_count": 5,
   "id": "f7c479df-e23c-4bb6-8783-75849a3d26fd",
   "metadata": {},
   "outputs": [
    {
     "data": {
      "text/plain": [
       "'Q4. Categorise the following datasets with respect to quantitative and qualitative data types:\\n(i) Grading in exam: A+, A, B+, B, C+, C, D, E  :ordinal data\\n(ii) Colour of mangoes: yellow, green, orange, red :nominal\\n(iii) Height data of a class: [178.9, 179, 179.5, 176, 177.2, 178.3, 175.8,...] :contineous data\\n(iv) Number of mangoes exported by a farm: [500, 600, 478, 672, ...]:contineous data'"
      ]
     },
     "execution_count": 5,
     "metadata": {},
     "output_type": "execute_result"
    }
   ],
   "source": [
    "'''Q4. Categorise the following datasets with respect to quantitative and qualitative data types:\n",
    "(i) Grading in exam: A+, A, B+, B, C+, C, D, E  :ordinal data\n",
    "(ii) Colour of mangoes: yellow, green, orange, red :nominal\n",
    "(iii) Height data of a class: [178.9, 179, 179.5, 176, 177.2, 178.3, 175.8,...] :contineous data\n",
    "(iv) Number of mangoes exported by a farm: [500, 600, 478, 672, ...]:contineous data'''"
   ]
  },
  {
   "cell_type": "code",
   "execution_count": 2,
   "id": "481c8888-a496-4d1c-b1f6-15732e51b048",
   "metadata": {},
   "outputs": [
    {
     "data": {
      "text/plain": [
       "' Q5ans.Levels of measurement, also called scales of measurement, tell you how precisely variables are recorded. In scientific research, a variable is anything that can take on different values across your data set (e.g., height or test scores).\\n\\nThere are 4 levels of measurement:\\n\\nNominal: the data can only be categorized  :eg gender ,city of birth\\nOrdinal: the data can be categorized and ranked : \\nInterval: the data can be categorized, ranked, and evenly spaced\\nRatio: the data can be categorized, ranked, evenly spaced, and has a natural zero.\\n\\n\\nQ6.ans.The level at which you measure a variable determines how you can analyze your data.\\n\\nThe different levels limit which descriptive statistics you can use to get an overall summary of your data, and which type of inferential statistics you can perform on your data to support or refute your hypothesis.\\n\\nIn many cases, your variables can be measured at different levels, so you have to choose the level of measurement you will use before data collection begins.\\n\\nExample of a variable at 2 levels of measurement\\nYou can measure the variable of income at an ordinal or ratio level.\\nOrdinal level: You create brackets of income ranges: $0–$19,999, $20,000–$39,999, and $40,000–$59,999. You ask participants to select the bracket that represents their annual income. The brackets are coded with numbers from 1–3.\\nRatio level: You collect data on the exact annual incomes of your participants.\\nParticipant\\tIncome (ordinal level)\\tIncome (ratio level)\\nA\\tBracket 1\\t$12,550\\nB\\tBracket 2\\t$39,700\\nC\\tBracket 3\\t$40,300\\nAt a ratio level, you can see that the difference between A and B’s incomes is far greater than the difference between B and C’s incomes.\\n\\nAt an ordinal level, however, you only know the income bracket for each participant, not their exact income. Since you cannot say exactly how much each income differs from the others in your data set, \\nyou can only order the income levels and group the participants.'"
      ]
     },
     "execution_count": 2,
     "metadata": {},
     "output_type": "execute_result"
    }
   ],
   "source": [
    "''' Q5ans.Levels of measurement, also called scales of measurement, tell you how precisely variables are recorded. In scientific research, a variable is anything that can take on different values across your data set (e.g., height or test scores).\n",
    "\n",
    "There are 4 levels of measurement:\n",
    "\n",
    "Nominal: the data can only be categorized  :eg gender ,city of birth\n",
    "Ordinal: the data can be categorized and ranked : \n",
    "Interval: the data can be categorized, ranked, and evenly spaced\n",
    "Ratio: the data can be categorized, ranked, evenly spaced, and has a natural zero.\n",
    "\n",
    "\n",
    "Q6.ans.The level at which you measure a variable determines how you can analyze your data.\n",
    "\n",
    "The different levels limit which descriptive statistics you can use to get an overall summary of your data, and which type of inferential statistics you can perform on your data to support or refute your hypothesis.\n",
    "\n",
    "In many cases, your variables can be measured at different levels, so you have to choose the level of measurement you will use before data collection begins.\n",
    "\n",
    "Example of a variable at 2 levels of measurement\n",
    "You can measure the variable of income at an ordinal or ratio level.\n",
    "Ordinal level: You create brackets of income ranges: $0–$19,999, $20,000–$39,999, and $40,000–$59,999. You ask participants to select the bracket that represents their annual income. The brackets are coded with numbers from 1–3.\n",
    "Ratio level: You collect data on the exact annual incomes of your participants.\n",
    "Participant\tIncome (ordinal level)\tIncome (ratio level)\n",
    "A\tBracket 1\t$12,550\n",
    "B\tBracket 2\t$39,700\n",
    "C\tBracket 3\t$40,300\n",
    "At a ratio level, you can see that the difference between A and B’s incomes is far greater than the difference between B and C’s incomes.\n",
    "\n",
    "At an ordinal level, however, you only know the income bracket for each participant, not their exact income. Since you cannot say exactly how much each income differs from the others in your data set, \n",
    "you can only order the income levels and group the participants.'''"
   ]
  },
  {
   "cell_type": "code",
   "execution_count": 4,
   "id": "29d0058f-10c3-4ea2-99bc-9a10188f36a8",
   "metadata": {},
   "outputs": [
    {
     "data": {
      "text/plain": [
       "'ans7.The main difference between nominal and ordinal data is that nominal data is categorical and lacks any order or ranking, \\nwhile ordinal data is ordered but the intervals between categories are not necessarily equal'"
      ]
     },
     "execution_count": 4,
     "metadata": {},
     "output_type": "execute_result"
    }
   ],
   "source": [
    "'''ans7.The main difference between nominal and ordinal data is that nominal data is categorical and lacks any order or ranking, \n",
    "while ordinal data is ordered but the intervals between categories are not necessarily equal'''"
   ]
  },
  {
   "cell_type": "code",
   "execution_count": 6,
   "id": "72fd8b0d-016e-4470-bd92-20207e7bc6f5",
   "metadata": {},
   "outputs": [
    {
     "data": {
      "text/plain": [
       "'ans8.\\nThis table summarizes the main differences between descriptive and inferential statistics, highlighting their respective purposes, scopes, objectives, examples, and statistical techniques.\\n\\nAspect\\n\\nDescriptive Statistics\\n\\nInferential Statistics\\n\\nPurpose\\n\\nSummarizes and describes features of a dataset\\n\\nMakes inferences, predictions, or generalizations about a population based on sample data\\n\\nScope\\n\\nFocuses on specific sample data\\n\\nExtends findings to a larger population\\n\\nObjective\\n\\nDescribes characteristics of the data without generalizing\\n\\nGeneralizes findings from sample to population\\n\\nExamples\\n\\nMeasures of central tendency, dispersion, frequency distributions, graphical representations\\n\\nHypothesis testing, regression analysis, confidence intervals\\n\\nData Analysis\\n\\nProvides a summary and visualization of data\\n\\nDraws conclusions, tests hypotheses, and makes predictions\\n\\nPopulation Representation\\n\\nRepresents features within the sample only\\n\\nRepresents features of the larger population\\n\\nStatistical Techniques\\n\\nMean, median, mode, range, variance, standard deviation, histograms, box plots, etc.\\n\\nHypothesis testing, regression analysis, confidence intervals\\n\\nGoal\\n\\nTo provide insights into the characteristics of a dataset\\n\\nTo make predictions or draw conclusions about a population'"
      ]
     },
     "execution_count": 6,
     "metadata": {},
     "output_type": "execute_result"
    }
   ],
   "source": [
    "'''ans8.\n",
    "This table summarizes the main differences between descriptive and inferential statistics, highlighting their respective purposes, scopes, objectives, examples, and statistical techniques.\n",
    "\n",
    "Aspect\n",
    "\n",
    "Descriptive Statistics\n",
    "\n",
    "Inferential Statistics\n",
    "\n",
    "Purpose\n",
    "\n",
    "Summarizes and describes features of a dataset\n",
    "\n",
    "Makes inferences, predictions, or generalizations about a population based on sample data\n",
    "\n",
    "Scope\n",
    "\n",
    "Focuses on specific sample data\n",
    "\n",
    "Extends findings to a larger population\n",
    "\n",
    "Objective\n",
    "\n",
    "Describes characteristics of the data without generalizing\n",
    "\n",
    "Generalizes findings from sample to population\n",
    "\n",
    "Examples\n",
    "\n",
    "Measures of central tendency, dispersion, frequency distributions, graphical representations\n",
    "\n",
    "Hypothesis testing, regression analysis, confidence intervals\n",
    "\n",
    "Data Analysis\n",
    "\n",
    "Provides a summary and visualization of data\n",
    "\n",
    "Draws conclusions, tests hypotheses, and makes predictions\n",
    "\n",
    "Population Representation\n",
    "\n",
    "Represents features within the sample only\n",
    "\n",
    "Represents features of the larger population\n",
    "\n",
    "Statistical Techniques\n",
    "\n",
    "Mean, median, mode, range, variance, standard deviation, histograms, box plots, etc.\n",
    "\n",
    "Hypothesis testing, regression analysis, confidence intervals\n",
    "\n",
    "Goal\n",
    "\n",
    "To provide insights into the characteristics of a dataset\n",
    "\n",
    "To make predictions or draw conclusions about a population'''"
   ]
  },
  {
   "cell_type": "code",
   "execution_count": 7,
   "id": "05ccc0ba-3e5a-4005-861e-a21c41dc304d",
   "metadata": {},
   "outputs": [
    {
     "data": {
      "text/plain": [
       "'ans10.Measures of central tendency help you find the middle, or the average, of a dataset. The 3 most common measures of central tendency are the mode, median, and mean.\\n\\nMode: the most frequent value.\\nMedian: the middle number in an ordered dataset.\\nMean: the sum of all values divided by the total number of values.\\nIn addition to central tendency, the variability and distribution of your dataset is important to understand when performing descriptive statistics.'"
      ]
     },
     "execution_count": 7,
     "metadata": {},
     "output_type": "execute_result"
    }
   ],
   "source": [
    "'''ans10.Measures of central tendency help you find the middle, or the average, of a dataset. The 3 most common measures of central tendency are the mode, median, and mean.\n",
    "\n",
    "Mode: the most frequent value.\n",
    "Median: the middle number in an ordered dataset.\n",
    "Mean: the sum of all values divided by the total number of values.\n",
    "In addition to central tendency, the variability and distribution of your dataset is important to understand when performing descriptive statistics.'''"
   ]
  },
  {
   "cell_type": "code",
   "execution_count": null,
   "id": "ee18b54d-5468-4c63-b952-d5866143ed19",
   "metadata": {},
   "outputs": [],
   "source": []
  }
 ],
 "metadata": {
  "kernelspec": {
   "display_name": "Python 3 (ipykernel)",
   "language": "python",
   "name": "python3"
  },
  "language_info": {
   "codemirror_mode": {
    "name": "ipython",
    "version": 3
   },
   "file_extension": ".py",
   "mimetype": "text/x-python",
   "name": "python",
   "nbconvert_exporter": "python",
   "pygments_lexer": "ipython3",
   "version": "3.10.8"
  }
 },
 "nbformat": 4,
 "nbformat_minor": 5
}

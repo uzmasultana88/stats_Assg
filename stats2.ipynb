{
 "cells": [
  {
   "cell_type": "markdown",
   "id": "2dd652af-e15f-4c4d-8444-69bffa7706da",
   "metadata": {},
   "source": [
    "'''Q1. What are the three measures of central tendency?\n",
    "Q2. What is the difference between the mean, median, and mode? How are they used to measure the\n",
    "central tendency of a dataset?\n",
    "Q3. Measure the three measures of central tendency for the given height data:\n",
    "[178,177,176,177,178.2,178,175,179,180,175,178.9,176.2,177,172.5,178,176.5]\n",
    "Q4. Find the standard deviation for the given data:\n",
    "[178,177,176,177,178.2,178,175,179,180,175,178.9,176.2,177,172.5,178,176.5]\n",
    "Q5. How are measures of dispersion such as range, variance, and standard deviation used to describe\n",
    "the spread of a dataset? Provide an example.\n",
    "Q6. What is a Venn diagram?\n",
    "Q7. For the two given sets A = (2,3,4,5,6,7) & B = (0,2,6,8,10). Find:\n",
    "(i) A B\n",
    "(ii) A ⋃ B\n",
    "Q8. What do you understand about skewness in data?\n",
    "Q9. If a data is right skewed then what will be the position of median with respect to mean?\n",
    "Q10. Explain the difference between covariance and correlation. How are these measures used in\n",
    "statistical analysis?\n",
    "Q11. What is the formula for calculating the sample mean? Provide an example calculation for a\n",
    "dataset.\n",
    "Q12. For a normal distribution data what is the relationship between its measure of central tendency?\n",
    "Q13. How is covariance different from correlation?\n",
    "Q14. How do outliers affect measures of central tendency and dispersion? Provide an example.'''"
   ]
  },
  {
   "cell_type": "markdown",
   "id": "97a115d8-a061-4427-9798-303ea7ff5a6f",
   "metadata": {},
   "source": [
    "'''ans1.Measures of central tendency help you find the middle, or the average, of a dataset. The 3 most common measures of central tendency are the mode, median, and mean.\n",
    "\n",
    "Mode: the most frequent value. Median: the middle number in an ordered dataset. Mean: the sum of all values divided by the total number of values"
   ]
  },
  {
   "cell_type": "markdown",
   "id": "4e54e591-5356-4d55-a4f0-a7da7c43a3f9",
   "metadata": {},
   "source": [
    "ans2.Mode\n",
    "The mode is the most frequently occurring value in the dataset.\n",
    "It’s possible to have no mode, one mode, or more than one mode.\n",
    "\n",
    "To find the mode, sort your dataset numerically or categorically and select the response that occurs most frequently.\n",
    "Median\n",
    "The median of a dataset is the value that’s exactly in the middle when it is ordered from low to high.\n",
    "Mean\n",
    "The arithmetic mean of a dataset (which is different from the geometric mean) is the sum of all values divided by the total number of values. It’s the most commonly used measure of central tendency because all values are used in the calculation."
   ]
  },
  {
   "cell_type": "code",
   "execution_count": 4,
   "id": "e3878045-0740-4126-ac7c-665aba14bbd9",
   "metadata": {},
   "outputs": [],
   "source": [
    "l1=[178,177,176,177,178.2,178,175,179,180,175,178.9,176.2,177,172.5,178,176.5]"
   ]
  },
  {
   "cell_type": "code",
   "execution_count": 5,
   "id": "c497bb4e-b30d-46e3-9b88-97923358498b",
   "metadata": {},
   "outputs": [
    {
     "data": {
      "text/plain": [
       "177.01875"
      ]
     },
     "execution_count": 5,
     "metadata": {},
     "output_type": "execute_result"
    }
   ],
   "source": [
    "import numpy as np\n",
    "np.mean(l1)"
   ]
  },
  {
   "cell_type": "code",
   "execution_count": 7,
   "id": "eaa297f8-7fa2-4311-8d16-690033233a69",
   "metadata": {},
   "outputs": [
    {
     "data": {
      "text/plain": [
       "177.0"
      ]
     },
     "execution_count": 7,
     "metadata": {},
     "output_type": "execute_result"
    }
   ],
   "source": [
    "np.median(l1)"
   ]
  },
  {
   "cell_type": "code",
   "execution_count": 8,
   "id": "e0ea01e9-9414-4c02-b829-a7a30e99ce8d",
   "metadata": {},
   "outputs": [
    {
     "name": "stderr",
     "output_type": "stream",
     "text": [
      "/tmp/ipykernel_728/3682151368.py:2: FutureWarning: Unlike other reduction functions (e.g. `skew`, `kurtosis`), the default behavior of `mode` typically preserves the axis it acts along. In SciPy 1.11.0, this behavior will change: the default value of `keepdims` will become False, the `axis` over which the statistic is taken will be eliminated, and the value None will no longer be accepted. Set `keepdims` to True or False to avoid this warning.\n",
      "  stats.mode(l1)\n"
     ]
    },
    {
     "data": {
      "text/plain": [
       "ModeResult(mode=array([177.]), count=array([3]))"
      ]
     },
     "execution_count": 8,
     "metadata": {},
     "output_type": "execute_result"
    }
   ],
   "source": [
    "from scipy import stats\n",
    "stats.mode(l1)"
   ]
  },
  {
   "cell_type": "code",
   "execution_count": 9,
   "id": "c81e6878-cb69-403f-adb4-14594a8ff2fa",
   "metadata": {},
   "outputs": [],
   "source": [
    "l2=[178,177,176,177,178.2,178,175,179,180,175,178.9,176.2,177,172.5,178,176.5]"
   ]
  },
  {
   "cell_type": "code",
   "execution_count": 10,
   "id": "30426c19-7d45-4d1c-812c-6347001aadf8",
   "metadata": {},
   "outputs": [
    {
     "data": {
      "text/plain": [
       "1.7885814036548633"
      ]
     },
     "execution_count": 10,
     "metadata": {},
     "output_type": "execute_result"
    }
   ],
   "source": [
    "std_dev=np.std(l2)\n",
    "std_dev"
   ]
  },
  {
   "cell_type": "markdown",
   "id": "713213a0-91b4-4a86-9e5d-dbfd78074553",
   "metadata": {},
   "source": [
    "Dispersion of data used to understands the distribution of data. It helps to understand the variation of data and provides a piece of information about the distribution data. Range, IOR, Variance, and Standard Deviation are the methods used to understand the distribution data.\n",
    "The range is the easiest dispersion of data or measure of variability. The range can measure by subtracting the lowest value from the massive Number. The wide range indicates high variability, and the small range specifies low variability in the distribution. To calculate a range, prepare all the values in ascending order, then subtract the lowest value from the highest value.\n",
    "\n",
    " .\n",
    "\n",
    "         Range = Highest_value  – Lowest_value\n",
    "        \n",
    "Variance is a simple measure of dispersion. Variance measures how far each number in the dataset from the mean. To compute variance first, calculate the mean and squared deviations from a mean.\n",
    "\n",
    "\n",
    "Standard deviation is a squared root of the variance to get original values. Low standard deviation indicates data points close to mean.\n",
    "\n",
    "The normal distribution is conventional bits of help to understand the standard deviation.\n",
    "        "
   ]
  },
  {
   "cell_type": "markdown",
   "id": "4c2c31f5-16ab-4de0-b114-ccf648485de7",
   "metadata": {},
   "source": [
    "ans6.Venn diagrams are the diagrams that are used to represent the sets, relation between the sets and operation performed on them, in a pictorial way."
   ]
  },
  {
   "cell_type": "code",
   "execution_count": 12,
   "id": "a3e39edb-8780-47c1-807a-8c82154d77e8",
   "metadata": {},
   "outputs": [],
   "source": [
    "A={2,3,4,5,6,7}\n",
    "B={0,2,6,8,10}"
   ]
  },
  {
   "cell_type": "code",
   "execution_count": 17,
   "id": "e74e18fb-1ab2-452c-b210-246f3aa6f4b3",
   "metadata": {},
   "outputs": [
    {
     "name": "stdout",
     "output_type": "stream",
     "text": [
      "intersection of A and B= {2, 6}\n"
     ]
    }
   ],
   "source": [
    "C=A&B\n",
    "print(\"intersection of A and B=\",C)"
   ]
  },
  {
   "cell_type": "code",
   "execution_count": 16,
   "id": "9bdec0ed-531d-4647-a0db-045d22b5d2ca",
   "metadata": {},
   "outputs": [
    {
     "name": "stdout",
     "output_type": "stream",
     "text": [
      "union of A and b= {0, 2, 3, 4, 5, 6, 7, 8, 10}\n"
     ]
    }
   ],
   "source": [
    "D=A|B\n",
    "print(\"union of A and b=\",D)"
   ]
  },
  {
   "cell_type": "markdown",
   "id": "7d168e22-2c5e-4978-b909-2995c639b884",
   "metadata": {},
   "source": [
    "ans8.Data skewness is a statistical concept that describes the asymmetry of a data distribution around its mean. It can be positive or negative, indicating that the data leans to the right or left of the mean, respectively"
   ]
  },
  {
   "cell_type": "markdown",
   "id": "2d63325f-3f2b-42bd-9688-0ef41747f1d2",
   "metadata": {},
   "source": [
    "ans9.If the distribution of data is skewed to the right, the mode is often less than the median, which is less than the mean."
   ]
  },
  {
   "cell_type": "markdown",
   "id": "6bfb7334-f567-48fd-a8ef-0c6a5d0d40cd",
   "metadata": {},
   "source": [
    "ans10.Covariance and correlation are used in statistical analysis to understand the relationship between two variables. Covariance matrices are used to analyze data sets with logical implications of principal component, and to study signals obtained in various forms.\n",
    "Measures how strongly two variables are related and the direction of their linear relationship. Correlation ranges from -1 to +1, with 0 indicating no linear relationship."
   ]
  },
  {
   "cell_type": "markdown",
   "id": "d84dac6f-9e7b-4af8-950c-3d7d78bc6a75",
   "metadata": {},
   "source": [
    "ans11.sample_mean= sumof(all sample data)/no of data"
   ]
  },
  {
   "cell_type": "markdown",
   "id": "7349f49c-ee88-4d51-997d-d0edba55eeb5",
   "metadata": {},
   "source": [
    "ans12.n a normal distribution, data is symmetrically distributed with no skew. Most values cluster around a central region, with values tapering off as they go further away from the center. The mean, mode and median are exactly the same in a normal distribution"
   ]
  },
  {
   "cell_type": "markdown",
   "id": "f8876988-ba42-4def-8876-e3ea8c67234e",
   "metadata": {},
   "source": [
    "ans13.Covariance measures how much two variables change together, while correlation measures how strongly two variables are related"
   ]
  },
  {
   "cell_type": "markdown",
   "id": "a1fbc7ca-add7-48c8-b65a-89c42b838a30",
   "metadata": {},
   "source": [
    "ans14.Outliers can significantly affect measures of central tendency and dispersion, especially the mean.Mean: Outliers can pull the mean towards their extreme values.\n",
    "\n",
    "Outliers can significantly affect measures of dispersion, such as the range, standard deviation, and variance: \n",
    " \n",
    "Range\n",
    "The difference between the highest and lowest values in a dataset. Outliers can increase the range significantly if they are far from the other values. \n",
    " \n",
    "Standard deviation\n",
    "A measure of how spread out the data is in relation to the mean. Outliers can increase the standard deviation, as they introduce more variability to the dataset. \n",
    " \n",
    "Variance\n",
    "Outliers can significantly increase the variance, making it appear that the data is more spread out than it really is"
   ]
  },
  {
   "cell_type": "code",
   "execution_count": null,
   "id": "59123aa6-4493-45d4-a8d6-b6218614e9cc",
   "metadata": {},
   "outputs": [],
   "source": []
  }
 ],
 "metadata": {
  "kernelspec": {
   "display_name": "Python 3 (ipykernel)",
   "language": "python",
   "name": "python3"
  },
  "language_info": {
   "codemirror_mode": {
    "name": "ipython",
    "version": 3
   },
   "file_extension": ".py",
   "mimetype": "text/x-python",
   "name": "python",
   "nbconvert_exporter": "python",
   "pygments_lexer": "ipython3",
   "version": "3.10.8"
  }
 },
 "nbformat": 4,
 "nbformat_minor": 5
}
